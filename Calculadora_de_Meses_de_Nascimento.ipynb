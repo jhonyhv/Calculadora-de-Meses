{
  "nbformat": 4,
  "nbformat_minor": 0,
  "metadata": {
    "colab": {
      "provenance": []
    },
    "kernelspec": {
      "name": "python3",
      "display_name": "Python 3"
    },
    "language_info": {
      "name": "python"
    }
  },
  "cells": [
    {
      "cell_type": "markdown",
      "source": [
        "# ***Calculadora de Meses de Nascimento***"
      ],
      "metadata": {
        "id": "6tWz4GCZ2dGb"
      }
    },
    {
      "cell_type": "code",
      "execution_count": 26,
      "metadata": {
        "id": "0bXqseZw2b4k"
      },
      "outputs": [],
      "source": [
        "from datetime import datetime"
      ]
    },
    {
      "cell_type": "code",
      "source": [
        "# Entrada de dados\n",
        "nome = input(\"Qual é o seu nome? \")\n",
        "idade = int(input(\"Quantos anos você tem? \"))\n",
        "dia = int(input(\"Qual o dia do seu aniversário? \"))\n",
        "mes = int(input(\"Qual o mês do seu aniversário (número)? \"))"
      ],
      "metadata": {
        "colab": {
          "base_uri": "https://localhost:8080/"
        },
        "id": "KoQb1Yh12gZK",
        "outputId": "73ef1b36-227d-49e0-ff23-868610a7abfe"
      },
      "execution_count": 27,
      "outputs": [
        {
          "name": "stdout",
          "output_type": "stream",
          "text": [
            "Qual é o seu nome? jhony\n",
            "Quantos anos você tem? 29\n",
            "Qual o dia do seu aniversário? 07\n",
            "Qual o mês do seu aniversário (número)? 12\n"
          ]
        }
      ]
    },
    {
      "cell_type": "code",
      "source": [
        "# Data atual\n",
        "hoje = datetime.now()"
      ],
      "metadata": {
        "id": "lZUXrq0a4eXa"
      },
      "execution_count": 28,
      "outputs": []
    },
    {
      "cell_type": "code",
      "source": [
        "# Calcula o ano estimado de nascimento\n",
        "ano_nascimento = hoje.year - idade\n"
      ],
      "metadata": {
        "id": "edCX91Ee4o92"
      },
      "execution_count": 29,
      "outputs": []
    },
    {
      "cell_type": "code",
      "source": [
        "# Estima a data de nascimento\n",
        "data_nascimento = datetime(ano_nascimento, mes, dia)\n"
      ],
      "metadata": {
        "id": "S-IQkLmB4sd-"
      },
      "execution_count": 30,
      "outputs": []
    },
    {
      "cell_type": "code",
      "source": [
        "# Ajuste se ainda não fez aniversário este ano\n",
        "if hoje.month < mes or (hoje.month == mes and hoje.day < dia):\n",
        "    data_nascimento = datetime(ano_nascimento - 1, mes, dia)"
      ],
      "metadata": {
        "id": "gBbE8Bxx43na"
      },
      "execution_count": 31,
      "outputs": []
    },
    {
      "cell_type": "code",
      "source": [
        "# Calcula a diferença total em dias\n",
        "diferenca = hoje - data_nascimento\n",
        "dias_totais = diferenca.days"
      ],
      "metadata": {
        "id": "ydttVvUj47YN"
      },
      "execution_count": 33,
      "outputs": []
    },
    {
      "cell_type": "code",
      "source": [
        "# Calcula meses e dias completos\n",
        "meses_completos = dias_totais // 30\n",
        "dias_restantes = dias_totais % 30"
      ],
      "metadata": {
        "id": "-pHb5RoU-PCt"
      },
      "execution_count": 34,
      "outputs": []
    },
    {
      "cell_type": "code",
      "source": [
        "# Resultado\n",
        "print(f\"\\nOlá, {nome}!\")\n",
        "print(f\"Você já viveu aproximadamente {meses_completos} meses e {dias_restantes} dias.\")"
      ],
      "metadata": {
        "colab": {
          "base_uri": "https://localhost:8080/"
        },
        "id": "a3sU-a7s4-rC",
        "outputId": "8a63c2a8-8c0b-494c-8446-e73841a26828"
      },
      "execution_count": 35,
      "outputs": [
        {
          "output_type": "stream",
          "name": "stdout",
          "text": [
            "\n",
            "Olá, jhony!\n",
            "Você já viveu aproximadamente 358 meses e 19 dias.\n"
          ]
        }
      ]
    }
  ]
}