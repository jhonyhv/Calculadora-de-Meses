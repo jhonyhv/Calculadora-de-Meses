{
  "nbformat": 4,
  "nbformat_minor": 0,
  "metadata": {
    "colab": {
      "provenance": []
    },
    "kernelspec": {
      "name": "python3",
      "display_name": "Python 3"
    },
    "language_info": {
      "name": "python"
    }
  },
  "cells": [
    {
      "cell_type": "markdown",
      "source": [
        "# ***Calculadora de Meses de Nascimento***"
      ],
      "metadata": {
        "id": "6tWz4GCZ2dGb"
      }
    },
    {
      "cell_type": "code",
      "execution_count": 9,
      "metadata": {
        "id": "0bXqseZw2b4k"
      },
      "outputs": [],
      "source": [
        "from datetime import datetime"
      ]
    },
    {
      "cell_type": "code",
      "source": [
        "# Variável para somar todos os meses vividos\n",
        "soma_total_meses = 0"
      ],
      "metadata": {
        "id": "hDOnE0llrP_a"
      },
      "execution_count": 12,
      "outputs": []
    },
    {
      "cell_type": "code",
      "source": [
        "while True:\n",
        "    # Entrada de dados\n",
        "    nome = input(\"\\nQual é o seu nome? \")\n",
        "    idade = int(input(\"Quantos anos você tem? \"))\n",
        "    dia = int(input(\"Qual o dia do seu aniversário? \"))\n",
        "    mes = int(input(\"Qual o mês do seu aniversário (número)? \"))\n",
        "\n",
        "    # Data atual\n",
        "    hoje = datetime.now()\n",
        "    ano_nascimento = hoje.year - idade\n",
        "\n",
        "    # Estima a data de nascimento\n",
        "    data_nascimento = datetime(ano_nascimento, mes, dia)\n",
        "\n",
        "    # Ajuste se ainda não fez aniversário este ano\n",
        "    if hoje.month < mes or (hoje.month == mes and hoje.day < dia):\n",
        "        data_nascimento = datetime(ano_nascimento - 1, mes, dia)\n",
        "\n",
        "    # Calcula diferença em dias\n",
        "    diferenca = hoje - data_nascimento\n",
        "    dias_totais = diferenca.days\n",
        "\n",
        "    # Meses e dias aproximados\n",
        "    meses_completos = dias_totais // 30\n",
        "    dias_restantes = dias_totais % 30\n",
        "\n",
        "    # Soma os meses\n",
        "    soma_total_meses += meses_completos\n",
        "\n",
        "    # Resultado individual\n",
        "    print(f\"\\nOlá, {nome}!\")\n",
        "    print(f\"Você já viveu aproximadamente {meses_completos} meses e {dias_restantes} dias.\")\n",
        "\n",
        "    # Pergunta se deseja continuar\n",
        "    continuar = input(\"\\nDeseja calcular para outra pessoa? (s/n): \").lower()\n",
        "    if continuar != 's':\n",
        "        break"
      ],
      "metadata": {
        "colab": {
          "base_uri": "https://localhost:8080/"
        },
        "id": "KoQb1Yh12gZK",
        "outputId": "6422540e-5b5f-4133-a2a3-e1d0f9b547d0"
      },
      "execution_count": 13,
      "outputs": [
        {
          "name": "stdout",
          "output_type": "stream",
          "text": [
            "\n",
            "Qual é o seu nome? Jhony\n",
            "Quantos anos você tem? 29\n",
            "Qual o dia do seu aniversário? 12\n",
            "Qual o mês do seu aniversário (número)? 7\n",
            "\n",
            "Olá, Jhony!\n",
            "Você já viveu aproximadamente 363 meses e 19 dias.\n",
            "\n",
            "Deseja calcular para outra pessoa? (s/n): s\n",
            "\n",
            "Qual é o seu nome? nicolas\n",
            "Quantos anos você tem? 25\n",
            "Qual o dia do seu aniversário? 8\n",
            "Qual o mês do seu aniversário (número)? 8\n",
            "\n",
            "Olá, nicolas!\n",
            "Você já viveu aproximadamente 314 meses e 1 dias.\n",
            "\n",
            "Deseja calcular para outra pessoa? (s/n): n\n"
          ]
        }
      ]
    },
    {
      "cell_type": "code",
      "source": [
        "# Resultado final\n",
        "print(f\"\\n✅ Soma total de meses vividos por todas as pessoas: {soma_total_meses} meses.\")"
      ],
      "metadata": {
        "colab": {
          "base_uri": "https://localhost:8080/"
        },
        "id": "hcV692zKsey1",
        "outputId": "daa17dc6-b653-4283-e02f-f9d3ce3d801a"
      },
      "execution_count": 14,
      "outputs": [
        {
          "output_type": "stream",
          "name": "stdout",
          "text": [
            "\n",
            "✅ Soma total de meses vividos por todas as pessoas: 677 meses.\n"
          ]
        }
      ]
    }
  ]
}